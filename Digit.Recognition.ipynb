{
 "cells": [
  {
   "cell_type": "code",
   "execution_count": 43,
   "metadata": {
    "collapsed": false
   },
   "outputs": [
    {
     "name": "stdout",
     "output_type": "stream",
     "text": [
      "Epoch 0 error: 27217.6420544\n",
      "Epoch 1 error: 15366.2687653\n",
      "Epoch 2 error: 12049.3146305\n",
      "Epoch 3 error: 10171.1956274\n",
      "Epoch 4 error: 9035.98153577\n",
      "Epoch 5 error: 7755.60143441\n",
      "Epoch 6 error: 6977.1782606\n",
      "Epoch 7 error: 6071.49979587\n",
      "Epoch 8 error: 5166.32366389\n",
      "Epoch 9 error: 5219.68792452\n"
     ]
    }
   ],
   "source": [
    "import numpy as np\n",
    "import matplotlib.pyplot as plt\n",
    "\n",
    "class Neuralnet:\n",
    "    def __init__(self, neurons):\n",
    "        self.layers = len(neurons)\n",
    "\n",
    "        # Learning rate\n",
    "        self.rate = .01\n",
    "\n",
    "        # Input vectors\n",
    "        self.inputs = []\n",
    "        # Output vectors\n",
    "        self.outputs = []\n",
    "        # Error vectors\n",
    "        self.errors = []\n",
    "        # Weight matrices\n",
    "        self.weights = []\n",
    "        # Bias vectors\n",
    "        self.biases = []\n",
    "\n",
    "        for layer in range(self.layers):\n",
    "            # Create the input, output, and error vector\n",
    "            self.inputs.append(np.empty(neurons[layer]))\n",
    "            self.outputs.append(np.empty(neurons[layer]))\n",
    "            self.errors.append(np.empty(neurons[layer]))\n",
    "\n",
    "        for layer in range(self.layers - 1):\n",
    "            # Create the weight matrix\n",
    "            self.weights.append(np.random.normal(\n",
    "                scale=1.0/np.sqrt(neurons[layer]),\n",
    "                size=[neurons[layer], neurons[layer + 1]]\n",
    "            ))\n",
    "            # Create the bias vector\n",
    "            self.biases.append(np.random.normal(\n",
    "                scale=1.0/np.sqrt(neurons[layer]),\n",
    "                size=neurons[layer + 1]\n",
    "            ))\n",
    "\n",
    "    def feedforward(self, inputs):\n",
    "        # Set input neuron inputs\n",
    "        self.inputs[0] = inputs\n",
    "        for layer in range(self.layers - 1):\n",
    "            # Find output of this layer from its input\n",
    "            self.outputs[layer] = np.tanh(self.inputs[layer])\n",
    "            # Find input of next layer from output of this layer and weight matrix (plus bias)\n",
    "            self.inputs[layer + 1] = np.dot(self.weights[layer].T, self.outputs[layer]) + self.biases[layer]\n",
    "        self.outputs[-1] = np.tanh(self.inputs[-1])\n",
    "\n",
    "    def backpropagate(self, targets):\n",
    "        # Calculate error at output layer\n",
    "        self.errors[-1] = self.outputs[-1] - targets\n",
    "        # Calculate error vector for each layer\n",
    "        for layer in reversed(range(self.layers - 1)):\n",
    "            gradient = 1 - self.outputs[layer] * self.outputs[layer]\n",
    "            self.errors[layer] = gradient * np.dot(self.weights[layer], self.errors[layer + 1])\n",
    "        # Adjust weight matrices and bias vectors\n",
    "        for layer in range(self.layers - 1):\n",
    "            self.weights[layer] -= self.rate * np.outer(self.outputs[layer], self.errors[layer + 1])\n",
    "            self.biases[layer] -= self.rate * self.errors[layer + 1]\n",
    "\n",
    "# Create a neural network that accepts a 28 by 28 array as input and has 10 output neurons\n",
    "net = Neuralnet([28 * 28, 200, 10])\n",
    "\n",
    "# Extract handwritten digits from files\n",
    "data = pd.read_csv(\"../train.csv\") #Adjust filepath\n",
    "y_label = data[\"label\"]\n",
    "data = data.drop(\"label\",axis=1)\n",
    "\n",
    "# Train neural network on entire data set multiple times\n",
    "for epoch in range(10):\n",
    "    # Total error for this epoch\n",
    "    error = 0\n",
    "    # Choose a sample index\n",
    "    for sample in range(len(data)):\n",
    "        # Feed input data to neural network\n",
    "        net.feedforward(data.iloc[sample])\n",
    "        # Target output consists of -1s except for matching digit\n",
    "        targets = np.full(10, -1, dtype=np.float32)\n",
    "        targets[y_label[sample]] = 1\n",
    "        # Train neural network based on target output\n",
    "        net.backpropagate(targets)\n",
    "        error += np.sum(net.errors[-1] * net.errors[-1])\n",
    "    print('Epoch ' + str(epoch) + ' error: ' + str(error))\n",
    "\n",
    "test = pd.read_csv(\"/Users/matthewzhou/Desktop/Image Recognition/test.csv\")\n",
    "predictions = [\"Label\"]\n",
    "for i in range(len(test)):\n",
    "    net.feedforward(test.iloc[i])\n",
    "    predictions.append(np.argmax(net.outputs[-1]))\n",
    "df = pd.DataFrame(predictions)\n",
    "df.to_csv(\"results.csv\", index_label=\"ImageID\")\n"
   ]
  },
  {
   "cell_type": "code",
   "execution_count": null,
   "metadata": {
    "collapsed": false
   },
   "outputs": [],
   "source": []
  },
  {
   "cell_type": "code",
   "execution_count": null,
   "metadata": {
    "collapsed": false
   },
   "outputs": [],
   "source": []
  },
  {
   "cell_type": "code",
   "execution_count": null,
   "metadata": {
    "collapsed": false
   },
   "outputs": [],
   "source": []
  },
  {
   "cell_type": "code",
   "execution_count": null,
   "metadata": {
    "collapsed": true
   },
   "outputs": [],
   "source": []
  },
  {
   "cell_type": "code",
   "execution_count": null,
   "metadata": {
    "collapsed": true
   },
   "outputs": [],
   "source": []
  }
 ],
 "metadata": {
  "anaconda-cloud": {},
  "kernelspec": {
   "display_name": "Python [Root]",
   "language": "python",
   "name": "Python [Root]"
  },
  "language_info": {
   "codemirror_mode": {
    "name": "ipython",
    "version": 2
   },
   "file_extension": ".py",
   "mimetype": "text/x-python",
   "name": "python",
   "nbconvert_exporter": "python",
   "pygments_lexer": "ipython2",
   "version": "2.7.11"
  }
 },
 "nbformat": 4,
 "nbformat_minor": 0
}
